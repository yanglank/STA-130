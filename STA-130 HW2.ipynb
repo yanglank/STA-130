{
 "cells": [
  {
   "cell_type": "markdown",
   "id": "f8dcaea4",
   "metadata": {},
   "source": [
    "#### 1. Begin (or restart) part \"3(a)\" of the **TUT Demo** and interact with a ChatBot to make sure you understand how each part the Monte Hall problem code above works<br>"
   ]
  },
  {
   "cell_type": "code",
   "execution_count": 1,
   "id": "a15ba098",
   "metadata": {},
   "outputs": [
    {
     "data": {
      "text/plain": [
       "0.66716"
      ]
     },
     "execution_count": 1,
     "metadata": {},
     "output_type": "execute_result"
    }
   ],
   "source": [
    "# Monte Hall Simulation Code -- not the only way to code this, but it's what Prof. Schwartz came up with...\n",
    "\n",
    "import numpy as np\n",
    "all_door_options = (1,2,3)  # tuple\n",
    "my_door_choice = 1  # 1,2,3\n",
    "i_won = 0\n",
    "reps = 100000\n",
    "for i in range(reps):\n",
    "    secret_winning_door = np.random.choice(all_door_options)\n",
    "    all_door_options_list = list(all_door_options)\n",
    "    # take the secret_winning_door, so we don't show it as a \"goat\" losing door\n",
    "    all_door_options_list.remove(secret_winning_door)\n",
    "    try:\n",
    "        # if my_door_choice was secret_winning_door then it's already removed\n",
    "        all_door_options_list.remove(my_door_choice)\n",
    "    except:\n",
    "        pass\n",
    "    # show a \"goat\" losing door and remove it\n",
    "    goat_door_reveal = np.random.choice(all_door_options_list)\n",
    "    all_door_options_list.remove(goat_door_reveal)\n",
    "\n",
    "    # put the secret_winning_door back in if it wasn't our choice\n",
    "    # we previously removed it, so it would be shown as a  \"goat\" losing door\n",
    "    if secret_winning_door != my_door_choice:\n",
    "        all_door_options_list.append(secret_winning_door)\n",
    "    # if secret_winning_door was our choice then all that's left in the list is a \"goat\" losing door\n",
    "    # if secret_winning_door wasn't our choice then it's all that will be left in the list\n",
    "\n",
    "    # swap strategy\n",
    "    my_door_choice = all_door_options_list[0]\n",
    "\n",
    "    if my_door_choice == secret_winning_door:\n",
    "        i_won += 1\n",
    "\n",
    "i_won/reps"
   ]
  },
  {
   "cell_type": "code",
   "execution_count": 2,
   "id": "1e6128ee",
   "metadata": {},
   "outputs": [],
   "source": [
    "import numpy as np\n",
    "all_door_options = (1, 2, 3)\n",
    "my_door_choice = 1\n",
    "i_won = 0\n",
    "reps = 100000"
   ]
  },
  {
   "cell_type": "markdown",
   "id": "b1c73b9b",
   "metadata": {},
   "source": [
    "all_door_options is a tuple representing the three doors (1, 2, 3).\n",
    "\n",
    "my_door_choice is initially set to door 1 (the player always initially picks this door).\n",
    "\n",
    "i_won is a counter to track how many times the player wins the game.\n",
    "\n",
    "reps is the number of repetitions or simulations (100,000 in this case)."
   ]
  },
  {
   "cell_type": "code",
   "execution_count": 3,
   "id": "8d8e0f5c",
   "metadata": {},
   "outputs": [
    {
     "ename": "SyntaxError",
     "evalue": "incomplete input (3825590777.py, line 1)",
     "output_type": "error",
     "traceback": [
      "\u001b[0;36m  Cell \u001b[0;32mIn[3], line 1\u001b[0;36m\u001b[0m\n\u001b[0;31m    for i in range(reps):\u001b[0m\n\u001b[0m                         ^\u001b[0m\n\u001b[0;31mSyntaxError\u001b[0m\u001b[0;31m:\u001b[0m incomplete input\n"
     ]
    }
   ],
   "source": [
    "for i in range(reps):"
   ]
  },
  {
   "cell_type": "markdown",
   "id": "eb83785e",
   "metadata": {},
   "source": [
    "This loop will run the simulation reps (100,000) times."
   ]
  },
  {
   "cell_type": "code",
   "execution_count": 4,
   "id": "db8f4732",
   "metadata": {},
   "outputs": [],
   "source": [
    "secret_winning_door = np.random.choice(all_door_options)"
   ]
  },
  {
   "cell_type": "markdown",
   "id": "052d3169",
   "metadata": {},
   "source": [
    "Each time through the loop, one of the three doors is randomly chosen to be the winning door (with the car behind it)."
   ]
  },
  {
   "cell_type": "code",
   "execution_count": 5,
   "id": "cdeba320",
   "metadata": {},
   "outputs": [],
   "source": [
    "all_door_options_list = list(all_door_options)\n",
    "all_door_options_list.remove(secret_winning_door)"
   ]
  },
  {
   "cell_type": "markdown",
   "id": "21e88e0d",
   "metadata": {},
   "source": [
    "The tuple of all doors is converted into a list, and the winning door is removed to avoid revealing it as a losing door."
   ]
  },
  {
   "cell_type": "code",
   "execution_count": 6,
   "id": "8225b1b8",
   "metadata": {},
   "outputs": [],
   "source": [
    "try:\n",
    "    all_door_options_list.remove(my_door_choice)\n",
    "except:\n",
    "    pass"
   ]
  },
  {
   "cell_type": "markdown",
   "id": "9456f625",
   "metadata": {},
   "source": [
    "If the player's initial choice happens to be the winning door, it's already removed. If not, the initial choice is removed from the list of doors."
   ]
  },
  {
   "cell_type": "code",
   "execution_count": 7,
   "id": "3404f3c3",
   "metadata": {},
   "outputs": [],
   "source": [
    "goat_door_reveal = np.random.choice(all_door_options_list)\n",
    "all_door_options_list.remove(goat_door_reveal)"
   ]
  },
  {
   "cell_type": "markdown",
   "id": "5b451c05",
   "metadata": {},
   "source": [
    "A \"goat\" door (a losing door) is randomly selected from the remaining doors and revealed to the player. This door is then removed from consideration."
   ]
  },
  {
   "cell_type": "code",
   "execution_count": 8,
   "id": "548030b0",
   "metadata": {},
   "outputs": [],
   "source": [
    "if secret_winning_door != my_door_choice:\n",
    "    all_door_options_list.append(secret_winning_door)"
   ]
  },
  {
   "cell_type": "markdown",
   "id": "25cf93c7",
   "metadata": {},
   "source": [
    "If the player's initial choice was not the winning door, the winning door is added back to the list, representing the doors the player can switch to."
   ]
  },
  {
   "cell_type": "code",
   "execution_count": 9,
   "id": "7c1c8ce6",
   "metadata": {},
   "outputs": [
    {
     "data": {
      "text/plain": [
       "0.0"
      ]
     },
     "execution_count": 9,
     "metadata": {},
     "output_type": "execute_result"
    }
   ],
   "source": [
    "i_won / reps"
   ]
  },
  {
   "cell_type": "markdown",
   "id": "348e65af",
   "metadata": {},
   "source": [
    "After all iterations, the code calculates the proportion of games the player won by dividing the number of wins (i_won) by the total number of simulations (reps)."
   ]
  },
  {
   "cell_type": "markdown",
   "id": "4619f632",
   "metadata": {},
   "source": [
    "#### 2. Extend your ChatBot sessions to now address part \"3(b)\" of the **TUT Demo** and interact with your ChatBot to see if it can suggest a simpler, more streamlined way to code up this *for* loop simulation so the process is more clear and easier to understand; then, describe any preferences you have in terms of readibility or explainability  between the original code and the code improvements suggested by the ChatBot<br>"
   ]
  },
  {
   "cell_type": "markdown",
   "id": "f32f2c57",
   "metadata": {},
   "source": [
    "Key Improvements:\n",
    "\n",
    "1.Removed unnecessary conversion of tuple to list multiple times.\n",
    "\n",
    "2.Simplified the logic for removing doors and switching choices.\n",
    "\n",
    "3.Used more descriptive variable names for clarity.\n",
    "\n",
    "4.Streamlined the code by combining the try-except block with a conditional check."
   ]
  },
  {
   "cell_type": "code",
   "execution_count": 10,
   "id": "6c8a7471",
   "metadata": {},
   "outputs": [
    {
     "name": "stdout",
     "output_type": "stream",
     "text": [
      "Probability of winning by switching: 0.6653\n"
     ]
    }
   ],
   "source": [
    "import numpy as np\n",
    "\n",
    "# Monte Hall Simulation with a \"switching\" strategy\n",
    "\n",
    "doors = [1, 2, 3]  # The three available doors\n",
    "initial_choice = 1  # The player's initial choice\n",
    "wins = 0  # Counter for wins\n",
    "simulations = 100000  # Number of repetitions\n",
    "\n",
    "for _ in range(simulations):\n",
    "    # Randomly select the winning door\n",
    "    winning_door = np.random.choice(doors)\n",
    "    \n",
    "    # Doors remaining after removing the winning door\n",
    "    remaining_doors = [door for door in doors if door != winning_door]\n",
    "\n",
    "    # If the initial choice is the winning door, one less door to reveal\n",
    "    if initial_choice in remaining_doors:\n",
    "        remaining_doors.remove(initial_choice)\n",
    "    \n",
    "    # Randomly reveal a goat door from the remaining doors\n",
    "    revealed_goat_door = np.random.choice(remaining_doors)\n",
    "    \n",
    "    # Switch choice to the remaining door (the one not initially chosen or revealed)\n",
    "    switch_choice = [door for door in doors if door != initial_choice and door != revealed_goat_door][0]\n",
    "    \n",
    "    # Check if the switched choice is the winning door\n",
    "    if switch_choice == winning_door:\n",
    "        wins += 1\n",
    "\n",
    "# Calculate the probability of winning with the switch strategy\n",
    "win_probability = wins / simulations\n",
    "print(f\"Probability of winning by switching: {win_probability:.4f}\")\n"
   ]
  },
  {
   "cell_type": "markdown",
   "id": "16d9e010",
   "metadata": {},
   "source": [
    "1. Logic of the code.\n",
    "\n",
    "First code (chatgpt's code):The logic of the code is relatively intuitive. For example, it uses a list to filter out doors that can be displayed, or doors that can be changed.Each step is done step by step according to the description in the question, so it is better to understand.\n",
    "\n",
    "Second code (Professor's code):The logic is slightly more complex. For example, first remove the door, then add the door back, the steps are a bit roundabout.It uses the try-except syntax to deal with a special case (when the door you chose at the beginning is the winning door), which is slightly less easy to understand.\n",
    "\n",
    "2. Notes and explanations.\n",
    "\n",
    "First code:There are no comments in the code, but since the variable names and logic are clear, it can be understood without comments.\n",
    "\n",
    "Second code:It uses a lot of comments to explain what each step is doing. This suggests that the code itself may not be as easy to understand, so comments are needed to help explain it.\n",
    "\n",
    "3. Overall readability.\n",
    "\n",
    "First Code:Much more concise and easy to read. The flow of the code is very consistent with the Monty Hall problem itself, the variable names are clear, and the logic is intuitive.\n",
    "\n",
    "Second code:Slightly more complex, with more steps, operations like adding and removing doors make it easier to get confused, and there are a lot of comments to help with understanding.\n",
    "\n",
    "Summary:\n",
    "The first code is easier to read and understand, especially for newcomers. The variable names and code structure are more intuitive and fit the description well.\n",
    "The second code can realize the same function, but it's a bit difficult to understand because of the many steps, the winding logic, and the many comments."
   ]
  },
  {
   "cell_type": "markdown",
   "id": "f65c32f6",
   "metadata": {},
   "source": [
    "#### 3. Submit your preferred version of the Monty Hall problem that is verified to be running and working with a final printed output of the code; then, add code comments explaining the purpose of each line of the code<br>"
   ]
  },
  {
   "cell_type": "code",
   "execution_count": null,
   "id": "2594600e",
   "metadata": {},
   "outputs": [],
   "source": [
    "import numpy as np  # Importing the NumPy library for generating random numbers\n",
    "\n",
    "doors = [1, 2, 3]  # Define three alternative doors, numbered 1, 2, 3\n",
    "wins = 0  # Initialize the counter for the number of victories to 0\n",
    "simulations = 100000  # We're going to run 100,000 simulations to estimate the win rate of the door-switching strategy\n",
    "\n",
    "# Start multiple simulations, with each simulation representing one game\n",
    "for _ in range(simulations):\n",
    "    # Randomly select a winning door (host knows which door is behind the car)\n",
    "    winning_door = np.random.choice(doors)\n",
    "    \n",
    "    # Players randomly select a door as their initial choice\n",
    "    initial_choice = np.random.choice(doors)\n",
    "    \n",
    "    # The host shows a door that is not the winning door and is not the player's initial choice, ensuring that behind the door is the goat\n",
    "    possible_doors_to_reveal = [door for door in doors if door != initial_choice and door != winning_door]\n",
    "    revealed_goat_door = np.random.choice(possible_doors_to_reveal)\n",
    "    \n",
    "    # The player decides to change the door, choosing the one that is left (the one that has not been shown)\n",
    "    switch_choice = [door for door in doors if door != initial_choice and door != revealed_goat_door][0]\n",
    "    \n",
    "    # If the selection after the door change happens to be the winning door, a win is recorded\n",
    "    if switch_choice == winning_door:\n",
    "        wins += 1\n",
    "\n",
    "# Calculate the final margin of victory, margin of victory = number of victories after door changes / total number of simulations\n",
    "win_probability = wins / simulations\n",
    "\n",
    "# Printing out the win rate of the door change strategy would result in a result close to 66.67%\n",
    "print(f\"Probability of winning by switching: {win_probability:.4f}\")\n"
   ]
  },
  {
   "cell_type": "markdown",
   "id": "88a33960",
   "metadata": {},
   "source": [
    "Summary of Our Session:\n",
    "In this session, we analyzed a Python script simulating the Monty Hall Problem, a well-known probability puzzle. The original code simulated 100,000 repetitions of the game, using a \"switching\" strategy, where the player always switches their choice after a non-winning door is revealed.\n",
    "\n",
    "Key points from the discussion:\n",
    "\n",
    "Original Code Explanation: We broke down each step of the original code, explaining how it simulates the game and calculates the probability of winning by switching doors.\n",
    "Improvements Suggested: I proposed a simplified and more readable version of the code that:\n",
    "Eliminated redundant steps.\n",
    "Used list comprehensions for more concise code.\n",
    "Improved naming for better clarity.\n",
    "Streamlined the process of switching doors and checking for wins."
   ]
  },
  {
   "cell_type": "markdown",
   "id": "753ca9ac",
   "metadata": {},
   "source": [
    "https://chatgpt.com/share/66eb3e5f-e038-8008-a919-bdd0e2bc2f6b"
   ]
  },
  {
   "cell_type": "markdown",
   "id": "5d14658b",
   "metadata": {},
   "source": [
    "#### 4. Watch the embedded video tutorial on Markov chains in the next Jupyter cell below to understand their application and relevance for ChatBots; then, after watching the video, start a new ChatBot session by prompting that you have code that creates a \"Markovian ChatBot\"; show it the first version of the \"Markovian ChatBot code\" below; and interact with the ChatBot session to make sure you understand how the original first version of the \"Markovian ChatBot code\" works<br>"
   ]
  },
  {
   "cell_type": "code",
   "execution_count": null,
   "id": "c95ad78d",
   "metadata": {},
   "outputs": [],
   "source": [
    "# Markovian Chatbot\n",
    "\n",
    "# from collections import defaultdict\n",
    "word_used = dict() # defaultdict(int)\n",
    "next_word = dict() # defaultdict(lambda: defaultdict(int))\n",
    "for i,word in enumerate(words[:-1]):\n",
    "\n",
    "    if word in word_used:\n",
    "        word_used[word] += 1\n",
    "    else:\n",
    "        word_used[word] = 1\n",
    "        next_word[word] = {}\n",
    "\n",
    "    if words[i+1] in next_word[word]:\n",
    "        next_word[word][words[i+1]] += 1\n",
    "    else:\n",
    "        next_word[word][words[i+1]] = 1"
   ]
  },
  {
   "cell_type": "code",
   "execution_count": null,
   "id": "4e900117",
   "metadata": {},
   "outputs": [],
   "source": [
    "word_used = dict()\n",
    "next_word = dict() "
   ]
  },
  {
   "cell_type": "markdown",
   "id": "a88d2f09",
   "metadata": {},
   "source": [
    "word_used is a dictionary of the number of times each word appears in the input text.\n",
    "\n",
    "next_word is a dictionary that stores the number of times each word is followed by another word. It records a word to a dictionary that counts how often the word appears after it.\n"
   ]
  },
  {
   "cell_type": "code",
   "execution_count": null,
   "id": "227cd57b",
   "metadata": {},
   "outputs": [],
   "source": [
    "for i, word in enumerate(words[:-1]):"
   ]
  },
  {
   "cell_type": "markdown",
   "id": "47594959",
   "metadata": {},
   "source": [
    "words is the list of words in the input text. the for loop iterates over every word in the list of words except the last one (because words[i+1] is already in use, and if the last word is accessed, an error occurs)."
   ]
  },
  {
   "cell_type": "code",
   "execution_count": null,
   "id": "43cbae9d",
   "metadata": {},
   "outputs": [],
   "source": [
    "if word in word_used:\n",
    "    word_used[word] += 1\n",
    "else:\n",
    "    word_used[word] = 1\n",
    "    next_word[word] = {}"
   ]
  },
  {
   "cell_type": "markdown",
   "id": "ea2b59da",
   "metadata": {},
   "source": [
    "In the if statement, for each word entered, it determines if the word is already in word_used. If it is not in word_used, it is added to the dictionary, indicating that the word has already appeared. At the same time, the word is added to the next_word dictionary, which is used to count the number of times the word occurs."
   ]
  },
  {
   "cell_type": "code",
   "execution_count": null,
   "id": "8e0730c0",
   "metadata": {},
   "outputs": [],
   "source": [
    "if words[i+1] in next_word[word]:\n",
    "    next_word[word][words[i+1]] += 1\n",
    "else:\n",
    "    next_word[word][words[i+1]] = 1"
   ]
  },
  {
   "cell_type": "markdown",
   "id": "37df6bcb",
   "metadata": {},
   "source": [
    "This part of the code looks at the word that comes immediately after the current word (words[i+1]).\n",
    "If the next word (words[i+1]) already exists in the dictionary of next words for the current word (next_word[word]), its count is incremented.\n",
    "Otherwise, the next word is added to the dictionary with an initial count of 1."
   ]
  },
  {
   "cell_type": "markdown",
   "id": "45769de0",
   "metadata": {},
   "source": [
    "Summary of Our Current Session:\n",
    "\n",
    "Understanding the Original Markov Chain Program:\n",
    "\n",
    "We discussed how the original Markov chain program builds a simple model by tracking the frequency of word transitions in a text. The program uses two dictionaries:\n",
    "word_used tracks the number of occurrences of each word.\n",
    "next_word tracks which words follow each word and how frequently they appear.\n",
    "\n",
    "Extensions to the Markov Chain Program:\n",
    "\n",
    "Extension #1 (Bigram Transitions):\n",
    "\n",
    "The first extension enhances the Markov model by moving from single-word transitions to bigram transitions. It tracks how often a word pair (bigram) appears and which word follows that bigram.\n",
    "This improves the context for word prediction, resulting in more coherent text generation.\n",
    "\n",
    "Extension #2 (Character-based Context):\n",
    "\n",
    "The second extension further improves the model by personalizing it based on characters from a dataset. It creates a separate bigram Markov chain for each character, tracking the words each character uses and how their speech patterns flow.\n",
    "This allows for generating text that mimics the speaking styles of different characters.\n",
    "\n",
    "Key Coding Results:\n",
    "\n",
    "Base Markov Chain: The original program tracks word transitions using single-word dependencies, where it calculates how often a word appears and what words follow it.\n",
    "\n",
    "Bigram-based Markov Chain: Extension #1 modifies the model to track transitions between word pairs (bigrams) and predict the word that comes after a bigram.\n",
    "Character-specific Markov Chain: Extension #2 builds separate bigram-based Markov chains for each character from a dataset, capturing the unique word usage patterns of different characters.\n",
    "This approach could be useful for tasks like dialogue generation in chatbots, video games, or personalized text generation systems."
   ]
  },
  {
   "cell_type": "markdown",
   "id": "a6e4a485",
   "metadata": {},
   "source": [
    "https://chatgpt.com/share/66eb56ef-9724-8008-af9e-0f7f3cde030b"
   ]
  },
  {
   "cell_type": "markdown",
   "id": "330f0122",
   "metadata": {},
   "source": [
    "#### 5. Recreate (or resume) the previous ChatBot session from question \"4\" above, and now  prompt the ChatBot session that you have a couple extensions of the code to show it, and then show it each of the extentions of the \"Markovian ChatBot code\" below in turn"
   ]
  },
  {
   "cell_type": "markdown",
   "id": "d1106607",
   "metadata": {},
   "source": [
    "Extension #1: Using Bigram Transitions\n",
    "\n",
    "This extension changes the Markov chain to consider pairs of words (bigrams) rather than individual words."
   ]
  },
  {
   "cell_type": "code",
   "execution_count": null,
   "id": "072f8286",
   "metadata": {},
   "outputs": [],
   "source": [
    "word_used2 = defaultdict(int)\n",
    "next_word2 = defaultdict(lambda: defaultdict(int))\n",
    "for i, word in enumerate(words[:-2]):\n",
    "    word_used2[word+' '+words[i+1]] += 1\n",
    "    next_word2[word+' '+words[i+1]][words[i+2]] += 1"
   ]
  },
  {
   "cell_type": "markdown",
   "id": "c0ca62e1",
   "metadata": {},
   "source": [
    "Explanation:\n",
    "\n",
    "Bigram Transitions: This extension models transitions between bigrams (pairs of consecutive words) instead of individual words.\n",
    "\n",
    "word_used2: This dictionary tracks how many times each bigram (word + the word immediately following it) appears in the dataset.\n",
    "next_word2: This stores the frequency of words that follow each bigram.\n",
    "\n",
    "How it Works:\n",
    "\n",
    "The program now looks at two consecutive words (word and words[i+1]) instead of just one word.\n",
    "It constructs a key for word_used2 and next_word2 using the bigram word + words[i+1].\n",
    "Then, it increments the count for that bigram in word_used2 and tracks the word that follows the bigram (words[i+2]) in next_word2.\n",
    "This creates a second-order Markov chain, which takes into account not only the current word but also the word before it. This helps in generating more coherent text since the model has more context."
   ]
  },
  {
   "cell_type": "markdown",
   "id": "c06f6ed7",
   "metadata": {},
   "source": [
    "Extension #2: Character-based Context\n",
    "\n",
    "This extension personalizes the model by incorporating character-specific Markov chains. It tracks the words spoken by different characters, using a dataset that includes a character column."
   ]
  },
  {
   "cell_type": "code",
   "execution_count": null,
   "id": "666bc9d8",
   "metadata": {},
   "outputs": [],
   "source": [
    "characters = Counter(\"\\n\"+ avatar.character.str.upper().str.replace(' ','.')+\":\")\n",
    "# `avatar` is a dataset, and `character` is one of it's columns\n",
    "\n",
    "nested_dict = lambda: defaultdict(nested_dict)\n",
    "word_used2C = nested_dict()\n",
    "next_word2C = nested_dict()\n",
    "\n",
    "for i, word in enumerate(words[:-2]):\n",
    "    if word in characters:\n",
    "        character = word\n",
    "\n",
    "    if character not in word_used2C:\n",
    "        word_used2C[character] = dict()\n",
    "    if word+' '+words[i+1] not in word_used2C[character]:\n",
    "        word_used2C[character][word+' '+words[i+1]] = 0\n",
    "    word_used2C[character][word+' '+words[i+1]] += 1\n",
    "\n",
    "    if character not in next_word2C:\n",
    "        next_word2C[character] = dict()\n",
    "    if word+' '+words[i+1] not in next_word2C[character]:\n",
    "        next_word2C[character][word+' '+words[i+1]] = dict()\n",
    "    if words[i+2] not in next_word2C[character][word+' '+words[i+1]]:\n",
    "        next_word2C[character][word+' '+words[i+1]][words[i+2]] = 0\n",
    "    next_word2C[character][word+' '+words[i+1]][words[i+2]] += 1\n"
   ]
  },
  {
   "cell_type": "markdown",
   "id": "79d83066",
   "metadata": {},
   "source": [
    "Explanation:\n",
    "This extension uses the characters from a dataset (in this case, avatar), where the dataset has a column named character, to build separate Markov models for each character.\n",
    "\n",
    "Character Identification:"
   ]
  },
  {
   "cell_type": "code",
   "execution_count": null,
   "id": "c391df63",
   "metadata": {},
   "outputs": [],
   "source": [
    "characters = Counter(\"\\n\"+ avatar.character.str.upper().str.replace(' ','.')+\":\")\n"
   ]
  },
  {
   "cell_type": "markdown",
   "id": "2f7aac2b",
   "metadata": {},
   "source": [
    "This line processes the character column from the avatar dataset, making all text uppercase, replacing spaces with dots, and appending a colon (:) to standardize the characters' names.\n",
    "\n",
    "The characters dictionary stores these names as keys, likely mapping to the frequency or occurrence of each character."
   ]
  },
  {
   "cell_type": "markdown",
   "id": "0c116aa7",
   "metadata": {},
   "source": [
    "Character-specific Dictionaries:"
   ]
  },
  {
   "cell_type": "code",
   "execution_count": null,
   "id": "aa24955c",
   "metadata": {},
   "outputs": [],
   "source": [
    "nested_dict = lambda: defaultdict(nested_dict)\n",
    "word_used2C = nested_dict()\n",
    "next_word2C = nested_dict()\n"
   ]
  },
  {
   "cell_type": "markdown",
   "id": "4867b8cf",
   "metadata": {},
   "source": [
    "A nested_dict is defined to create a deep hierarchy of default dictionaries. This will be used to store separate models for each character.\n",
    "\n",
    "word_used2C and next_word2C are the character-specific versions of word_used2 and next_word2. They store bigram transition data, but the data is now divided by character. In other words, each character has their own Markov chain based on the words they use."
   ]
  },
  {
   "cell_type": "markdown",
   "id": "57218e97",
   "metadata": {},
   "source": [
    "How it Works:\n",
    "\n",
    "The loop checks if a word matches a character in the dataset. If it does, that word becomes the character variable.\n",
    "The bigram (word + words[i+1]) is then stored specifically under that character in word_used2C and next_word2C.\n",
    "This builds a separate Markov model for each character, tracking the frequency of bigrams they use and the words that follow them.\n",
    "\n",
    "Summary of How the Full System Works:\n",
    "\n",
    "Base Model (original code):\n",
    "\n",
    "Tracks individual word transitions in the text.\n",
    "Bigram Extension (Extension #1):\n",
    "Moves from tracking individual words to tracking pairs of words (bigrams), which improves context for generating text.\n",
    "\n",
    "Character-specific Extension (Extension #2):\n",
    "Personalizes the Markov chain model by creating a separate Markov chain for each character. It uses bigrams to track the specific word patterns of each character in the dataset."
   ]
  },
  {
   "cell_type": "markdown",
   "id": "fb020e3f",
   "metadata": {},
   "source": [
    "#### 6. Report on your experience interacting with ChatBots to understand the Monte Hall problem and \"Markovian ChatBot\" code\n",
    "\n",
    "1. Discuss how quickly the ChatBot was able to be helpful for each of the above questions, and if so, how?<br><br>\n",
    "    \n",
    "2. Discuss whether or not interacting with ChatBot to try to figure things out was frustrating or unhelpful, and if so, how?<br><br>\n",
    "    \n",
    "3. Based on your experiences to date (e.g., including using ChatBots to troubleshoot coding errors in the previous homework), provide an overall assessment evaluating the usefulness of ChatBots as tools to help you understand code<br>"
   ]
  },
  {
   "cell_type": "markdown",
   "id": "612a6179",
   "metadata": {},
   "source": [
    "1.Monty Hall Problems:\n",
    "\n",
    "In discussing the Monty Hall problem with ChatBot, I found it very quick to explain. It told me why switching doors improves the probability of winning, and illustrated it with simple examples to help me understand the logic behind it. Even though the question itself was a bit counter-intuitive, ChatBot's explanation made sense to me very quickly, and the overall experience was very good, with quick responses and explanations.\n",
    "\n",
    "“Markovian ChatBot” code:\n",
    "\n",
    "When I asked ChatBot about the “Markovian ChatBot” code, it immediately provided a clear explanation that helped me understand how the Markov chain predicts relationships between words. It was especially easy to understand when discussing how to extend the code with bigrams and role-specific models. It broke down the logic of the code step-by-step, which helped me a lot to have a deeper understanding of how the code works."
   ]
  },
  {
   "cell_type": "markdown",
   "id": "c88c2e61",
   "metadata": {},
   "source": [
    "2.Overall, the experience of interacting with ChatBot was positive, especially when my questions were clear enough, and it was efficient in solving the problem by giving quick and accurate answers. However, when dealing with more complex or ambiguous questions, it sometimes required me to adjust the description of the question in order to get a useful response. Especially when I'm debugging code, if the problem is complex it can take a couple interactions to actually solve it, which can be a little frustrating, but ultimately I can find my way around."
   ]
  },
  {
   "cell_type": "markdown",
   "id": "7b5871be",
   "metadata": {},
   "source": [
    "3.In my experience, ChatBot is very helpful in understanding code and explaining concepts. It was able to provide quick feedback and especially did well when I was dealing with simple problems and small errors. For common programming problems, its instant feedback saved me a lot of time. However, for more complex debugging or in-depth code analysis, it may not provide the most comprehensive help, and I sometimes need to refer to other resources. Therefore, I think ChatBot is a useful tool, but it needs to be used in conjunction with other learning styles when dealing with more complex tasks."
   ]
  },
  {
   "cell_type": "markdown",
   "id": "2666bf58",
   "metadata": {},
   "source": [
    "#### 7. Reflect on your experience interacting with ChatBot and describe how your perception of AI-driven assistance tools in the context of learning coding, statistics, and data science has been evolving (or not) since joining the course<br><br>"
   ]
  },
  {
   "cell_type": "markdown",
   "id": "91f70e59",
   "metadata": {},
   "source": [
    "Since I started using ChatBot in my courses to learn programming, statistics, and data science, my view of AI aids has changed a bit. At first, I just thought of it as a gadget that could quickly answer questions. But as I used it more, I realized that it not only helped me solve basic problems, but also explained complex concepts and helped me understand the logic behind the code.\n",
    "\n",
    "In programming, ChatBot can quickly help me understand algorithms, explain the structure of the code, and also help me troubleshoot some common errors. In statistics and data science, it can simplify complex formulas and methods, making it easier for me to grasp and apply them. However, I also find that when the problem becomes more complex or more specific, ChatBot sometimes cannot give the most suitable solution. This is when I need to refer to other resources such as tutorials or documentation.\n",
    "\n",
    "Overall, my view of AI tools has gradually changed from an initial aid to a helper in the learning process. Although it is useful, when I encounter more in-depth problems, I still use it in conjunction with other resources to gain a fuller understanding."
   ]
  },
  {
   "cell_type": "markdown",
   "id": "1ff44389",
   "metadata": {},
   "source": [
    "#### 8. ChatBots consume text data available on the web or platforms, and thus represents a new way to \"search consensensus\" that condenses and summarizes mainstream human thought<br><br>\n",
    "\n",
    "1. Start a new ChatBot session and discuss the relevance of learning and adaptability, communication, coding, and statistics and data analysis as skills in the modern world, especially with respect to career opportunities (particularly in the context of the data science industry)<br><br>\n",
    "    \n",
    "2. See if ChatBot thinks you could be a statistician or data scientist without coding or doing data analysis, and then transition your ChatBot conversation into a career exploration discussion, using the ChatBot to identify the skills that might be the most valuable for a career that you're interested<br><br>\n",
    "    \n",
    "3. Ask for a summary of this ChatBot session and paste it into your homework notebook (including link(s) to chat log histories if you're using ChatBot)<br><br>\n",
    "    \n",
    "4. Paraphrase the assessments and conclusions of your conversation in the form of a reflection on your current thoughts regarding your potential future career(s) and how you can go about building the skills you need to pursue it<br><br>\n",
    "\n",
    "5. Give your thoughts regarding the helpfulness or limitations of your conversation with a ChatBot, and describe the next steps you would take to pursue this conversation further if you felt the information the ChatBot provides was somewhat high level and general, and perhaps lacked the depth and detailed knowledge of a dedicated subject matter expert who had really take the time to understand the ins and outs of the industry and career path in question.\n",
    "<br><br>"
   ]
  },
  {
   "cell_type": "markdown",
   "id": "bc594dfa",
   "metadata": {},
   "source": [
    "Through my conversation with ChatBot, I realized that in the modern world, the ability to learn and adapt, communication skills, and programming and data analysis skills are very important in career opportunities, especially in the field of data science.ChatBot told me that it is almost impossible to be a statistician or a data scientist without programming or data analysis because these are the foundations for working with data. During the career exploration discussion, ChatBot suggested that I learn programming languages such as Python and R, and learn about statistics and machine learning, which are key skills to become a data scientist. After this conversation, I began to reflect on my career direction; data science not only requires skill, but also encourages creativity in problem solving. As a result, I feel that my next step should be to focus on improving my programming skills, learning statistics and machine learning in depth, and improving my ability to analyze data."
   ]
  },
  {
   "cell_type": "markdown",
   "id": "43fe4484",
   "metadata": {},
   "source": [
    "#### 9. Have you reviewed the course [wiki-textbook](https://github.com/pointOfive/stat130chat130/wiki) and interacted with a ChatBot (or, if that wasn't sufficient, real people in the course piazza discussion board or TA office hours) to help you understand all the material in the tutorial and lecture that you didn't quite follow when you first saw it?<br><br>"
   ]
  },
  {
   "cell_type": "markdown",
   "id": "b0a88862",
   "metadata": {},
   "source": [
    "Yes, I read the course wiki and textbook and interacted with ChatBot to help me understand all the material in the tutorials and lectures."
   ]
  }
 ],
 "metadata": {
  "kernelspec": {
   "display_name": "Python 3 (ipykernel)",
   "language": "python",
   "name": "python3"
  },
  "language_info": {
   "codemirror_mode": {
    "name": "ipython",
    "version": 3
   },
   "file_extension": ".py",
   "mimetype": "text/x-python",
   "name": "python",
   "nbconvert_exporter": "python",
   "pygments_lexer": "ipython3",
   "version": "3.11.6"
  }
 },
 "nbformat": 4,
 "nbformat_minor": 5
}
