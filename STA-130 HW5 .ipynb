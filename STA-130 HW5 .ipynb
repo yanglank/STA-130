{
 "cells": [
  {
   "cell_type": "markdown",
   "id": "9d463611",
   "metadata": {},
   "source": [
    "### 1. The \"first pre-lecture video\" (above) describes hypothesis testing as addressing \"an idea that can be tested\", and the end of the video then discusses what our actual intended purpose in setting up a null hypothesis is. What is the key factor that makes the difference between ideas that can, and cannot be examined and tested statistically?  What would you describe is the key \"criteria\" defining what a good null hypothesis is? And what is the difference between a null hypothesis and an alternative hypothesis in the context of hypothesis testing? Answer these questions with concise explanations in your own words.<br>"
   ]
  },
  {
   "cell_type": "markdown",
   "id": "c3e53b91",
   "metadata": {},
   "source": [
    "Ideas that can be statistically tested must be able to be validated by data. Typically, such ideas involve hypotheses for which relevant data can be collected and conclusions drawn through statistical analysis. For example, the efficacy of a drug, etc. can be tested through experimentation and data. However, purely subjective ideas or unquantifiable concepts cannot be tested statistically because they cannot be assessed through data.\n",
    "\n",
    "A well-defined null hypothesis must have several key criteria: testability, specificity and refutability. Testability means that the hypothesis can be verified through data collection; specificity requires that the hypothesis be clear and unambiguous, such as “no difference” or “no effect”; and refutability means that the hypothesis can be disproved if the data provide sufficient evidence.\n",
    "\n",
    "In hypothesis testing, the null hypothesis (H₀) is usually a default hypothesis and is the one that we are trying to disprove through data in a statistical test. The alternative hypothesis, on the other hand, is the hypothesis that is opposed to the null hypothesis and is the hypothesis that is hoped to be proven through data validation. The null hypothesis provides a conservative starting point for hypothesis testing, and the results of the data analysis determine whether the null hypothesis is correct, thus indirectly justifying the alternative hypothesis."
   ]
  },
  {
   "cell_type": "markdown",
   "id": "41daab8a",
   "metadata": {},
   "source": [
    "### 2. Towards the end of the \"first pre-lecture\" video (above) it is stated that, \"It is important to note that outcomes of tests refer to the population parameter, rather than the sample statistic! As such, the result that we get is for the population.\" In terms of the distinctions between the concepts of $x_i\\!$'s, $\\bar x$, $\\mu$, and $\\mu_0$, how would you describe what the sentence above means? Explain this concisely in your own words for a \"non-statsitical\" audience, defining the technical statistical terminology you use in your answer.<br>"
   ]
  },
  {
   "cell_type": "markdown",
   "id": "8a629610",
   "metadata": {},
   "source": [
    "Suppose you want to know if drinking two cups of coffee a day increases productivity. To test this idea, you randomly select 20 of your classmates, have them drink two cups of coffee a day, and then observe how quickly they complete their tasks. Each person's task completion time is 𝑥𝑖's, which is the specific data you collected from your sample.\n",
    "\n",
    "Next, you calculate the average time these students took to complete the task 𝑥¯, which is the sample mean, which represents the average work efficiency of the coworkers in the sample. This sample mean is the basis you use to estimate the average productivity (𝜇) of all your classmates after drinking coffee.\n",
    "\n",
    "Suppose your null hypothesis is that “drinking coffee does not improve efficiency,” i.e., there is no change in everyone's average work efficiency (𝜇₀). If you find that the sample mean 𝑥¯ shows that productivity does increase after drinking coffee, and that this difference is large enough, you might have evidence to reject the null hypothesis, and thus infer that drinking coffee does help efficiency throughout the office.\n",
    "\n",
    "This example illustrates that even though you only tested 20 people, you want to use this data to understand what is happening for all of your classmates. That's why the test results point to the characteristics of the whole, rather than to specific sample data."
   ]
  },
  {
   "cell_type": "markdown",
   "id": "f5032024",
   "metadata": {},
   "source": [
    "### 3. The second \"Pre-lecture\" video (above) explains that we \"imagine a world where the null hypothesis is true\" when calculating a p-value? Explain why this is in your own words in a way that makes the most sense to you.<br>"
   ]
  },
  {
   "cell_type": "markdown",
   "id": "13c92874",
   "metadata": {},
   "source": [
    "In calculating the p-value, we assume that the null hypothesis is true. In this case, we calculate the probability of an outcome as extreme as the data we observe occurring, i.e., the p-value, based on the sampling distribution of the test statistic. This process helps us to assess the likelihood of observing such extreme data given that the null hypothesis is true. If the p-value is small, it means that such an outcome is very unlikely to occur under the conditions that the null hypothesis is true, thus giving us reason to doubt that the null hypothesis is true."
   ]
  },
  {
   "cell_type": "markdown",
   "id": "50978c54",
   "metadata": {},
   "source": [
    "When calculating the p-value, we assume that the null hypothesis is true, which can be interpreted to mean that we assume that nothing special has changed, and that everything is business as usual. We then look at the data we have in our hands in light of this assumption.\n",
    "\n",
    "If the p-value is large, then the data we are seeing is normal in the “normal world” and nothing special. If the p-value is very small, it means that the data is almost impossible to happen in the “normal world”, which means that maybe the world is not “normal”, and there may be something special.\n",
    "\n",
    "So why “assume the null hypothesis is true”? It's like checking what happens in the normal world, and then we use this criterion to determine if our data is unusual, to help us decide whether to reject the null hypothesis or not."
   ]
  },
  {
   "cell_type": "markdown",
   "id": "e8242afd",
   "metadata": {},
   "source": [
    "### 4. The second \"Pre-lecture\" video (above) describes suggest that a smaller p-value makes the null hypothesis look more ridiculous. Explain why this is in your own words in a way that makes the most sense to you, clarifying the meaning of any technical statistical terminology you use in your answer.<br>"
   ]
  },
  {
   "cell_type": "markdown",
   "id": "9bf3d63c",
   "metadata": {},
   "source": [
    "Suppose we are testing whether a drug works, with the null hypothesis being that the drug has no effect. We then conduct an experiment and collect data and find that the people who took the medication improved their health more than those who didn't take the medication.\n",
    "\n",
    "In this example, the p-value tells us how likely it is that such an improvement we see would just happen randomly if the medication really had no effect (i.e., the null hypothesis is true). If the p-value is large, it means that such an outcome is relatively common given that the drug is ineffective, and we have no reason to doubt the null hypothesis; however, if the p-value is small, it means that it is almost impossible to see such a large improvement given that the drug is ineffective, and this makes us think that “the drug is ineffective”. However, if the p-value is small, it means that it is almost impossible to see such a large improvement in the case of “drug inefficacy”, which makes the hypothesis of “drug inefficacy” less and less reliable.\n",
    "\n",
    "Thus, a small p-value makes us doubt the veracity of the null hypothesis, and we may think that the drug does work, because the hypothesis that the drug does not work seems implausible in the face of such a small p-value. Prove that the drug works.\n"
   ]
  },
  {
   "cell_type": "markdown",
   "id": "de3f0cbb",
   "metadata": {},
   "source": [
    "### 5. Güntürkün (2003) recorded how kissing couples tilt their heads. 80 out of 124 couples, or 64.5% tilted their heads to the right. Simulate a **p-value** using a \"50/50 coin-flipping\" model for the assumption of the **null hypothesis** $H_0$ that the population of humans don't have left or right head tilt tendencies when kissing, and use the table below to determine the level of evidence we have against $H_0$. <br>"
   ]
  },
  {
   "cell_type": "markdown",
   "id": "2a8bde64",
   "metadata": {},
   "source": [
    "H0: Humans do not have a tendency to tilt their heads to the left or right when kissing, i.e., the probability of right and left tilts is 0.5 each."
   ]
  },
  {
   "cell_type": "code",
   "execution_count": 4,
   "id": "26e858f8",
   "metadata": {},
   "outputs": [
    {
     "name": "stdout",
     "output_type": "stream",
     "text": [
      "p 值为: 0.0011\n"
     ]
    }
   ],
   "source": [
    "import numpy as np\n",
    "\n",
    "n_simulations = 10000 \n",
    "n_couples = 124        \n",
    "right_tilt_observed = 80  \n",
    "\n",
    "simulations = np.random.binomial(n_couples, 0.5, n_simulations)\n",
    "\n",
    "p_value = np.sum(simulations >= right_tilt_observed) / n_simulations\n",
    "\n",
    "print(f'p 值为: {p_value}')\n"
   ]
  },
  {
   "cell_type": "markdown",
   "id": "1a1afe82",
   "metadata": {},
   "source": [
    " p ≤ 0.001，There is enough evidence against the null hypothesis to suggest that couples do have a tendency to favor the right side when kissing."
   ]
  },
  {
   "cell_type": "markdown",
   "id": "8b4e3b35",
   "metadata": {},
   "source": [
    "### 6. Can a smaller p-value definitively prove that the null hypothesis is false? Is it possible to definitively prove that Fido (from the \"second pre-lecture video\") is innocent using a p-value? Is it possible to difinitively prove that Fido is guilty using a p-value? How low or high does a p-value have to be to definitely prove one or the other? Explain this concisely in your own words.<br>"
   ]
  },
  {
   "cell_type": "markdown",
   "id": "00bf2202",
   "metadata": {},
   "source": [
    "A small p-value does not definitively prove that the null hypothesis is false. p-values are simply an indication of the probability of observing the current outcome or a more extreme outcome assuming the null hypothesis is true. If the p-value is very small, it usually means that the available data are far from what is expected from the null hypothesis, but this does not constitute conclusive evidence that the null hypothesis is necessarily false, only that there is reason to doubt it.\n",
    "\n",
    "In the case of Fido, mentioned in the second pre-class video, the p-value does not definitively prove Fido's innocence or guilt either. p-values only tell us how probable it is that evidence will be observed under certain assumptions (e.g., Fido's innocence). If the p-value is large, it means that the available evidence is insufficient to disprove the hypothesis of Fido's innocence, but this does not mean that Fido is necessarily innocent. Similarly, if the p-value is small, it means that we have stronger evidence to suspect that Fido is guilty, but this does not mean absolute certainty either.\n",
    "\n",
    "There is no clear cut line for the p-value to prove that a hypothesis is true or false. In short, the p-value does not definitively prove any hypothesis to be true or false, but only helps us assess the strength of the evidence."
   ]
  },
  {
   "cell_type": "markdown",
   "id": "c7af0690",
   "metadata": {},
   "source": [
    "### 7. In the second half of the \"first pre-lecture video\" the concept of a \"one sided\" (or \"one tailed\") test is introduced in contrast to a \"two sided\" (or \"two tailed\") test. Work with a ChatBot to adjust the code from \"Demo II of  the Week 5 TUT\" (which revisits the \"Vaccine Data Analysis Assignment\" from Week 04 HW \"Question 8\") in order to compute a p-value for a \"one sided\" (or \"one tailed\") hypothesis test rather than the \"two sided\" (or \"two tailed\") version it provides. Describe (perhaps with the help of your ChatBot) what changed in the code; how this changes the interpretation of the hypothesis test; and whether or not we should indeed expect the p-value to be smaller in the \"one tailed\" versus \"two tailed\" analysis. <br>"
   ]
  },
  {
   "cell_type": "markdown",
   "id": "667bbc7a",
   "metadata": {},
   "source": [
    "### Changes in the code:\n",
    "1. **Calculation of P-values**:\n",
    "   - The **bilateral test** calculates the probability that the observed statistic has extreme values in both directions (either greater or less than the expected value).\n",
    "   - **Unilateral tests**, on the other hand, are only concerned with extreme values in one direction (either greater or lesser), so the p-value is computed considering the probability on one side only, rather than on both sides as in a two-sided test.\n",
    "\n",
    "2. **Direction of hypothesis testing**:\n",
    "   - It needs to be made clear whether the one-sided test is testing the **upper side** (e.g., assuming that the vaccine has a significant effect, health scores will **increase**) or the **lower side** (e.g., assuming that the vaccine has a negative effect, health scores will **decrease**).\n",
    "   - If the hypothesis is that the vaccine has a **positive effect** (i.e., health scores are higher after vaccination than before), then we focus only on the **upper side** of the statistics.\n",
    "\n",
    "3. **Change in original and alternative hypotheses**:\n",
    "   - In **bilateral tests**, the original hypothesis \\(H_0\\) is usually “no effect” (e.g., difference in means = 0), and the alternative hypothesis \\(H_a\\) is “presence of effect” (difference in means ≠ 0).\n",
    "   - In a **one-sided test**, the original hypothesis is still 'no effect', but the alternative hypothesis is a 'directional effect' (e.g., mean difference > 0 or < 0).\n",
    "\n",
    "### Changes in the interpretation of hypothesis tests:\n",
    "- In a **one-sided test**, we are only concerned with whether the vaccine has a **positive effect**, rather than “whether it has any effect” in a two-sided test. This means that we are only interested in whether the test statistic is significant in one direction, e.g. whether it is significantly larger than the expected value.\n",
    "\n",
    "### Is the p-value smaller in a one-sided test?\n",
    "- **Yes**, usually in a one-sided test, the p-value will be smaller than in a two-sided test if the data support the direction of the alternative hypothesis. This is because a one-sided test focuses the probability in only one direction, whereas a two-sided test tests in both directions, so the p-value for a two-sided test is usually larger.\n"
   ]
  },
  {
   "cell_type": "markdown",
   "id": "55ffa03f",
   "metadata": {},
   "source": [
    "### Summary\n",
    "When adapting the two-sided test in Demo II to a one-sided test, the main changes are in the calculation of the p-value, the choice of test direction and the definition of the hypothesis. Unilateral tests only consider extreme values in one direction, and the p-value is usually smaller than in two-sided tests. The interpretation of hypothesis testing also changes from testing whether there is any effect to testing whether there is an effect in a particular direction, such as whether the vaccine has a positive effect. Thus, the results of a one-sided test are more directional and may be more likely to lead to a conclusion of significance."
   ]
  },
  {
   "cell_type": "markdown",
   "id": "5e52abe9",
   "metadata": {},
   "source": [
    "### 8. Complete the following assignment. "
   ]
  },
  {
   "cell_type": "markdown",
   "id": "1d578c7b",
   "metadata": {},
   "source": [
    "Formal null hypothesis (𝐻0): the student guesses randomly and the probability of guessing correctly is 0.5, i.e. 𝐻0: p = 0.5.\n",
    "\n",
    "Informal interpretation: we assume that students are not capable of distinguishing whether tea or milk is poured first, and the probability of a correct answer is the same as for a coin-flip guess.\n",
    "\n",
    "Alternative hypothesis (𝐻𝐴): students are not randomly guessing and are able to correctly identify the order in which tea is poured, i.e. 𝐻𝐴: p ≠ 0.5."
   ]
  },
  {
   "cell_type": "code",
   "execution_count": 3,
   "id": "a3b3c233",
   "metadata": {},
   "outputs": [
    {
     "data": {
      "image/png": "[encoded data removed]",
      "text/plain": [
       "<Figure size 1000x600 with 1 Axes>"
      ]
     },
     "metadata": {},
     "output_type": "display_data"
    }
   ],
   "source": [
    "import numpy as np\n",
    "import matplotlib.pyplot as plt\n",
    "\n",
    "np.random.seed(42)\n",
    "\n",
    "n = 80  \n",
    "x_observed = 49 \n",
    "p0 = 0.5 \n",
    "\n",
    "n_simulations = 10000\n",
    "\n",
    "simulated_correct_counts = np.random.binomial(n, p0, n_simulations)\n",
    "\n",
    "extreme_count = np.sum((simulated_correct_counts >= x_observed) | (simulated_correct_counts <= n - x_observed))\n",
    "p_value_simulation = extreme_count / n_simulations\n",
    "\n",
    "plt.figure(figsize=(10,6))\n",
    "plt.hist(simulated_correct_counts, bins=range(n+1), alpha=0.7, color='blue', edgecolor='black')\n",
    "\n",
    "plt.axvline(x_observed, color='red', linestyle='--', label=f'Observed = {x_observed}')\n",
    "plt.axvline(n - x_observed, color='green', linestyle='--', label=f'Extreme = {n - x_observed}')\n",
    "\n",
    "plt.title(f'Monte Carlo Simulation of Correct Guesses (n={n_simulations} Simulations)')\n",
    "plt.xlabel('Number of Correct Guesses')\n",
    "plt.ylabel('Frequency')\n",
    "plt.legend()\n",
    "\n",
    "plt.text(60, 300, f'p-value = {p_value_simulation:.4f}', color='red', fontsize=12)\n",
    "\n",
    "plt.show()\n"
   ]
  },
  {
   "cell_type": "markdown",
   "id": "525b63c3",
   "metadata": {},
   "source": [
    "In this analysis, the p-value was 0.027, which is significantly less than 0.05. Therefore, we reject the null hypothesis and conclude that there is evidence that students in STA130 are not randomly guessing and that they are able to differentiate between the order in which tea or milk is poured first."
   ]
  },
  {
   "cell_type": "markdown",
   "id": "38ad0701",
   "metadata": {},
   "source": [
    "### Summary\n",
    "\n",
    "This project replicates Fisher's famous tea-tasting experiment to test whether STA130 students can correctly identify the order of milk and tea being poured. In the experiment, 80 students participated, and 49 correctly identified the pouring order. The objective is to conduct a statistical analysis using hypothesis testing to determine whether the students’ performance deviates significantly from random guessing.\n",
    "\n",
    "### Hypothesis Statements\n",
    "- **Null Hypothesis (H₀)**: Students are randomly guessing, with a probability of 0.5 of correctly identifying the pour order (H₀: p = 0.5).\n",
    "- **Alternative Hypothesis (H₁)**: Students are not randomly guessing and have an ability to correctly identify the pour order (H₁: p ≠ 0.5).\n",
    "\n",
    "### Quantitative Analysis\n",
    "A Monte Carlo simulation was conducted with 10,000 iterations to model random guessing by students. The observed result of 49 correct guesses out of 80 was compared to the simulated distribution of outcomes under the null hypothesis. The p-value was calculated by determining how frequently the simulated results were as extreme or more extreme than the observed result.\n",
    "\n",
    "### Visualization\n",
    "A histogram of the simulation results was plotted to show the distribution of correct guesses under random guessing. The observed 49 correct guesses were marked, and the p-value was displayed on the graph. \n",
    "\n",
    "### Conclusion\n",
    "Based on the results of the simulation, the p-value was estimated, and if it is less than the significance level (α = 0.05), the null hypothesis would be rejected, suggesting that the students may have the ability to distinguish the pouring order better than random guessing."
   ]
  },
  {
   "cell_type": "markdown",
   "id": "42b6b3ba",
   "metadata": {},
   "source": [
    "### 9. Have you reviewed the course wiki-textbook and interacted with a ChatBot (or, if that wasn't sufficient, real people in the course piazza discussion board or TA office hours) to help you understand all the material in the tutorial and lecture that you didn't quite follow when you first saw it?<br>"
   ]
  },
  {
   "cell_type": "markdown",
   "id": "b72633af",
   "metadata": {},
   "source": [
    "Somewhat"
   ]
  }
 ],
 "metadata": {
  "kernelspec": {
   "display_name": "Python 3 (ipykernel)",
   "language": "python",
   "name": "python3"
  },
  "language_info": {
   "codemirror_mode": {
    "name": "ipython",
    "version": 3
   },
   "file_extension": ".py",
   "mimetype": "text/x-python",
   "name": "python",
   "nbconvert_exporter": "python",
   "pygments_lexer": "ipython3",
   "version": "3.11.6"
  }
 },
 "nbformat": 4,
 "nbformat_minor": 5
}
